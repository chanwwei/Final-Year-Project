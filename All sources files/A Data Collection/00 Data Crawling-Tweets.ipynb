{
 "cells": [
  {
   "cell_type": "markdown",
   "metadata": {},
   "source": [
    "# 00 Data Crawling -Tweets using TWINT"
   ]
  },
  {
   "cell_type": "markdown",
   "metadata": {},
   "source": [
    "References: \n",
    "- https://github.com/twintproject/twint (official)\n",
    "- https://github.com/twintproject/twint/wiki/Configuration  (official)\n",
    "- https://cruizbran.medium.com/getting-started-with-twint-ea49d6454151\n",
    "- https://medium.datadriveninvestor.com/scrape-twitter-without-limits-using-twint-92509f2503cd\n",
    "\n",
    "- https://nealcaren.org/lessons/twint/  (twint_loop)\n",
    "\n"
   ]
  },
  {
   "cell_type": "code",
   "execution_count": 2,
   "metadata": {},
   "outputs": [
    {
     "name": "stdout",
     "output_type": "stream",
     "text": [
      "Requirement already satisfied: twint in c:\\users\\user\\appdata\\roaming\\python\\python38\\site-packages (2.1.21)\n",
      "Requirement already satisfied: elasticsearch in c:\\users\\user\\appdata\\roaming\\python\\python38\\site-packages (from twint) (7.13.0)\n",
      "Requirement already satisfied: schedule in c:\\users\\user\\appdata\\roaming\\python\\python38\\site-packages (from twint) (1.1.0)\n",
      "Requirement already satisfied: geopy in c:\\users\\user\\appdata\\roaming\\python\\python38\\site-packages (from twint) (2.1.0)\n",
      "Requirement already satisfied: fake-useragent in c:\\users\\user\\appdata\\roaming\\python\\python38\\site-packages (from twint) (0.1.11)\n",
      "Requirement already satisfied: beautifulsoup4 in c:\\users\\user\\anaconda3\\lib\\site-packages (from twint) (4.9.0)\n",
      "Requirement already satisfied: googletransx in c:\\users\\user\\appdata\\roaming\\python\\python38\\site-packages (from twint) (2.4.2)\n",
      "Requirement already satisfied: aiohttp-socks in c:\\users\\user\\appdata\\roaming\\python\\python38\\site-packages (from twint) (0.6.0)\n",
      "Requirement already satisfied: dataclasses in c:\\users\\user\\appdata\\roaming\\python\\python38\\site-packages (from twint) (0.6)Note: you may need to restart the kernel to use updated packages.\n",
      "\n",
      "Requirement already satisfied: pysocks in c:\\users\\user\\anaconda3\\lib\\site-packages (from twint) (1.7.1)\n",
      "Requirement already satisfied: cchardet in c:\\users\\user\\appdata\\roaming\\python\\python38\\site-packages (from twint) (2.1.7)\n",
      "Requirement already satisfied: aiohttp in c:\\users\\user\\appdata\\roaming\\python\\python38\\site-packages (from twint) (3.7.4.post0)\n",
      "Requirement already satisfied: aiodns in c:\\users\\user\\appdata\\roaming\\python\\python38\\site-packages (from twint) (3.0.0)\n",
      "Requirement already satisfied: pandas in c:\\users\\user\\anaconda3\\lib\\site-packages (from twint) (1.0.5)\n",
      "Requirement already satisfied: urllib3<2,>=1.21.1 in c:\\users\\user\\anaconda3\\lib\\site-packages (from elasticsearch->twint) (1.25.9)\n",
      "Requirement already satisfied: certifi in c:\\users\\user\\anaconda3\\lib\\site-packages (from elasticsearch->twint) (2020.4.5.1)\n",
      "Requirement already satisfied: geographiclib<2,>=1.49 in c:\\users\\user\\appdata\\roaming\\python\\python38\\site-packages (from geopy->twint) (1.50)\n",
      "Requirement already satisfied: soupsieve>1.2 in c:\\users\\user\\anaconda3\\lib\\site-packages (from beautifulsoup4->twint) (2.0)\n",
      "Requirement already satisfied: requests in c:\\users\\user\\anaconda3\\lib\\site-packages (from googletransx->twint) (2.23.0)\n",
      "Requirement already satisfied: python-socks[asyncio]>=1.2.2 in c:\\users\\user\\appdata\\roaming\\python\\python38\\site-packages (from aiohttp-socks->twint) (1.2.4)\n",
      "Requirement already satisfied: attrs>=19.2.0 in c:\\users\\user\\anaconda3\\lib\\site-packages (from aiohttp-socks->twint) (20.3.0)\n",
      "Requirement already satisfied: async-timeout<4.0,>=3.0 in c:\\users\\user\\appdata\\roaming\\python\\python38\\site-packages (from aiohttp->twint) (3.0.1)\n",
      "Requirement already satisfied: multidict<7.0,>=4.5 in c:\\users\\user\\appdata\\roaming\\python\\python38\\site-packages (from aiohttp->twint) (5.1.0)\n",
      "Requirement already satisfied: chardet<5.0,>=2.0 in c:\\users\\user\\anaconda3\\lib\\site-packages (from aiohttp->twint) (3.0.4)\n",
      "Requirement already satisfied: typing-extensions>=3.6.5 in c:\\users\\user\\anaconda3\\lib\\site-packages (from aiohttp->twint) (3.7.4.3)\n",
      "Requirement already satisfied: yarl<2.0,>=1.0 in c:\\users\\user\\appdata\\roaming\\python\\python38\\site-packages (from aiohttp->twint) (1.6.3)\n",
      "Requirement already satisfied: pycares>=4.0.0 in c:\\users\\user\\appdata\\roaming\\python\\python38\\site-packages (from aiodns->twint) (4.0.0)\n",
      "Requirement already satisfied: python-dateutil>=2.6.1 in c:\\users\\user\\anaconda3\\lib\\site-packages (from pandas->twint) (2.8.1)\n",
      "Requirement already satisfied: numpy>=1.13.3 in c:\\users\\user\\anaconda3\\lib\\site-packages (from pandas->twint) (1.19.0)\n",
      "Requirement already satisfied: pytz>=2017.2 in c:\\users\\user\\anaconda3\\lib\\site-packages (from pandas->twint) (2020.1)\n",
      "Requirement already satisfied: idna<3,>=2.5 in c:\\users\\user\\anaconda3\\lib\\site-packages (from requests->googletransx->twint) (2.9)\n",
      "Requirement already satisfied: cffi>=1.5.0 in c:\\users\\user\\anaconda3\\lib\\site-packages (from pycares>=4.0.0->aiodns->twint) (1.14.3)\n",
      "Requirement already satisfied: six>=1.5 in c:\\users\\user\\anaconda3\\lib\\site-packages (from python-dateutil>=2.6.1->pandas->twint) (1.15.0)\n",
      "Requirement already satisfied: pycparser in c:\\users\\user\\anaconda3\\lib\\site-packages (from cffi>=1.5.0->pycares>=4.0.0->aiodns->twint) (2.20)\n"
     ]
    }
   ],
   "source": [
    "pip install twint"
   ]
  },
  {
   "cell_type": "code",
   "execution_count": 1,
   "metadata": {},
   "outputs": [],
   "source": [
    "import twint\n",
    "import nest_asyncio\n",
    "import pandas as pd\n",
    "nest_asyncio.apply()\n"
   ]
  },
  {
   "cell_type": "markdown",
   "metadata": {},
   "source": [
    "Covid, coronavirus, vaccine, vaksin, pkp, pkpp, pkpb, pkpd, mco, rmco, cmco, emco, tabligh, PRN, #stayathone, #dudukrumah, #kerajaangagal"
   ]
  },
  {
   "cell_type": "code",
   "execution_count": 7,
   "metadata": {
    "scrolled": false
   },
   "outputs": [],
   "source": [
    "# Configure\n",
    "c = twint.Config()\n",
    "c.Search = \"coronavirus OR covid OR covid19 OR mco OR rmco OR cmco OR emco OR bantuan OR vaccine OR #covid19 OR #KerajaanGagal OR #KitaJagaKita OR #StayAtHome OR #dudukrumah\"\n",
    "#c.Limit = 100\n",
    "c.lang = \"en\"\n",
    "c.Since = \"2020-01-01\"\n",
    "c.Until = \"2020-03-31\"\n",
    "c.Near = \"Malaysia\"\n",
    "c.lang = \"en\"\n",
    "c.Geo =  \"4.2105,101.9758, 300km\"\n",
    "c.Pandas = True\n",
    "c.Store_csv =True\n",
    "c.Output = \"q1_20.csv\"\n",
    "c.Hide_output = True \n",
    "c.Resume = 'q120_resume.csv'\n",
    "c.Debug = True\n",
    "\n",
    "\n",
    "# Run\n",
    "twint.run.Search(c)\n",
    "\n"
   ]
  }
 ],
 "metadata": {
  "kernelspec": {
   "display_name": "Python 3",
   "language": "python",
   "name": "python3"
  },
  "language_info": {
   "codemirror_mode": {
    "name": "ipython",
    "version": 3
   },
   "file_extension": ".py",
   "mimetype": "text/x-python",
   "name": "python",
   "nbconvert_exporter": "python",
   "pygments_lexer": "ipython3",
   "version": "3.8.5"
  }
 },
 "nbformat": 4,
 "nbformat_minor": 4
}
